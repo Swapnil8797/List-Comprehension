{
  "nbformat": 4,
  "nbformat_minor": 0,
  "metadata": {
    "colab": {
      "name": "List comprehension.ipynb",
      "provenance": []
    },
    "kernelspec": {
      "name": "python3",
      "display_name": "Python 3"
    },
    "language_info": {
      "name": "python"
    }
  },
  "cells": [
    {
      "cell_type": "code",
      "metadata": {
        "colab": {
          "base_uri": "https://localhost:8080/"
        },
        "id": "Tq-XqDMVzrIY",
        "outputId": "1afe2209-9d81-429c-b7d7-e0ce8cdd2b95"
      },
      "source": [
        "x = [\"apple\", \"banana\",\"cherry\", \"kiwi\", \"mango\"]\n",
        "newlist = []\n",
        "for i in x:\n",
        "  if \"a\" in i:\n",
        "    newlist.append(i)\n",
        "\n",
        "  print(newlist)"
      ],
      "execution_count": 2,
      "outputs": [
        {
          "output_type": "stream",
          "text": [
            "['apple']\n",
            "['apple', 'banana']\n",
            "['apple', 'banana']\n",
            "['apple', 'banana']\n",
            "['apple', 'banana', 'mango']\n"
          ],
          "name": "stdout"
        }
      ]
    },
    {
      "cell_type": "code",
      "metadata": {
        "colab": {
          "base_uri": "https://localhost:8080/"
        },
        "id": "h_Bvyrgy0D8E",
        "outputId": "d747dd79-c279-499b-99c4-c6fcea2f674e"
      },
      "source": [
        "x = [\"apple\", \"banana\",\"cherry\", \"kiwi\", \"mango\"]\n",
        "newlist = [i for i in x if \"a\" in i]\n",
        "\n",
        "print(newlist)"
      ],
      "execution_count": 3,
      "outputs": [
        {
          "output_type": "stream",
          "text": [
            "['apple', 'banana', 'mango']\n"
          ],
          "name": "stdout"
        }
      ]
    },
    {
      "cell_type": "code",
      "metadata": {
        "id": "NGq_DYeV0_nX"
      },
      "source": [
        "newlist = [i for i in x if x != \"apple\"]"
      ],
      "execution_count": 4,
      "outputs": []
    },
    {
      "cell_type": "code",
      "metadata": {
        "id": "jbFhHl4h1Pps"
      },
      "source": [
        "newlist = [i for i in x]"
      ],
      "execution_count": 5,
      "outputs": []
    },
    {
      "cell_type": "code",
      "metadata": {
        "id": "DNRa2YjS1Yuw"
      },
      "source": [
        "newlist = [i for i in range(10)]"
      ],
      "execution_count": 6,
      "outputs": []
    },
    {
      "cell_type": "code",
      "metadata": {
        "id": "QZWJnnKr1hIT"
      },
      "source": [
        "newlist = [i for i in range(10) if i < 5]"
      ],
      "execution_count": 8,
      "outputs": []
    },
    {
      "cell_type": "code",
      "metadata": {
        "id": "XHZAUNjB1scY"
      },
      "source": [
        "newlist = [i.upper() for i in x]"
      ],
      "execution_count": 10,
      "outputs": []
    },
    {
      "cell_type": "code",
      "metadata": {
        "id": "8pexhX_q1-w2"
      },
      "source": [
        "newlist = [i if i != \"banana\" else \"orange\" for i in x]"
      ],
      "execution_count": 11,
      "outputs": []
    },
    {
      "cell_type": "code",
      "metadata": {
        "id": "3UpZugAg2a6j"
      },
      "source": [
        ""
      ],
      "execution_count": null,
      "outputs": []
    }
  ]
}